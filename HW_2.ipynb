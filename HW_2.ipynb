{
 "cells": [
  {
   "cell_type": "code",
   "execution_count": 1,
   "id": "23c320f7",
   "metadata": {},
   "outputs": [],
   "source": [
    "#Импортируем необходимые модули\n",
    "from pymystem3 import Mystem\n",
    "m = Mystem()\n",
    "import json\n",
    "import nltk\n",
    "import ssl\n",
    "from nltk.tokenize import word_tokenize\n",
    "from pymorphy2 import MorphAnalyzer\n",
    "morph = MorphAnalyzer()\n",
    "import collections\n",
    "from collections import Counter\n",
    "from pprint import pprint\n",
    "import os\n",
    "import time\n",
    "from datetime import datetime\n",
    "import datetime"
   ]
  },
  {
   "cell_type": "code",
   "execution_count": 2,
   "id": "91f0cd39",
   "metadata": {},
   "outputs": [],
   "source": [
    "with open(\"dostoevsky.txt\", encoding=\"utf-8\") as f:\n",
    "    text = f.read()"
   ]
  },
  {
   "cell_type": "code",
   "execution_count": 3,
   "id": "efea5f74",
   "metadata": {},
   "outputs": [],
   "source": [
    "m = Mystem()\n",
    "analitics = m.analyze(text)\n",
    "with open(\"mystem.json\",\"w\", encoding=\"utf-8\") as f:\n",
    "    json.dump(analitics, f)"
   ]
  },
  {
   "cell_type": "code",
   "execution_count": null,
   "id": "b549e9e3",
   "metadata": {},
   "outputs": [],
   "source": [
    "words = [w.lower() for w in word_tokenize(text) if w.isalpha()]\n",
    "morph = MorphAnalyzer()\n",
    "analize_word_list = []\n",
    "for i in words:\n",
    "    analitic_words = morph.parse(i)[0]\n",
    "    analize_word_list.append(analitic_words)\n",
    "\n",
    "lemmas = []\n",
    "for token in analize_word_list:\n",
    "    first = token[0]\n",
    "    words_dict = (token.word, (token.normal_form, token.tag.POS))\n",
    "    lemmas.append(words_dict)\n",
    "\n",
    "with open(\"pymorphy.json\", \"w\", encoding=\"utf-8\") as f:\n",
    "    json.dump(lemmas, f)"
   ]
  },
  {
   "cell_type": "code",
   "execution_count": null,
   "id": "e89184c1",
   "metadata": {},
   "outputs": [],
   "source": [
    "POS = []\n",
    "for lemma in lemmas:\n",
    "    POS.append(lemma[1][1])\n",
    "POS = Counter(POS)\n",
    "for key, value in POS.items():\n",
    "    print(key, value / len(lemmas)*100)"
   ]
  },
  {
   "cell_type": "code",
   "execution_count": null,
   "id": "e538c3a4",
   "metadata": {},
   "outputs": [],
   "source": [
    "n_gram_list = []\n",
    "for i in lemmas:\n",
    "    n_gram_list.append(i[0])\n",
    "bigrams = nltk.bigrams(n_gram_list)\n",
    "trigrams = nltk.trigrams(n_gram_list)\n",
    "bigrams_count = collections.Counter(bigrams).most_common(25)\n",
    "trigrams_count = collections.Counter(trigrams).most_common(25)\n",
    "\n",
    "print(\"Топ-25 биграмм:\")\n",
    "for i in bigrams_count:\n",
    "    print(i[0])\n",
    "\n",
    "print(\"Топ-25 триграмм:\")\n",
    "for i in trigrams_count:\n",
    "    print(i[0])"
   ]
  }
 ],
 "metadata": {
  "kernelspec": {
   "display_name": "Python 3.7.4 64-bit",
   "language": "python",
   "name": "python37464bit88dca2cf41f745a4a5d5cc241093d9a4"
  },
  "language_info": {
   "codemirror_mode": {
    "name": "ipython",
    "version": 3
   },
   "file_extension": ".py",
   "mimetype": "text/x-python",
   "name": "python",
   "nbconvert_exporter": "python",
   "pygments_lexer": "ipython3",
   "version": "3.7.9"
  }
 },
 "nbformat": 4,
 "nbformat_minor": 5
}
